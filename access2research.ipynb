{
 "metadata": {
  "name": "access2research.ipynb"
 },
 "nbformat": 3,
 "nbformat_minor": 0,
 "worksheets": [
  {
   "cells": [
    {
     "cell_type": "code",
     "collapsed": false,
     "input": [
      "#imports\n",
      "import requests\n",
      "import string\n",
      "from bs4 import BeautifulSoup\n",
      "import re\n",
      "import csv"
     ],
     "language": "python",
     "metadata": {},
     "outputs": [],
     "prompt_number": 33
    },
    {
     "cell_type": "code",
     "collapsed": false,
     "input": [
      "page = requests.get('http://www.accesstoresearch.org.uk/libraries')"
     ],
     "language": "python",
     "metadata": {},
     "outputs": [],
     "prompt_number": 34
    },
    {
     "cell_type": "code",
     "collapsed": false,
     "input": [
      "soup = BeautifulSoup(page.text)\n",
      "librarylist = soup.find('div', class_='col-lft')\n",
      "libraries = librarylist.find_all('ul')\n",
      "print len(libraries)\n",
      "print libraries[0]"
     ],
     "language": "python",
     "metadata": {},
     "outputs": [
      {
       "output_type": "stream",
       "stream": "stdout",
       "text": [
        "235\n",
        "<ul class=\"list letters\"><li class=\"letter-a\"><a href=\"http://www.oxfordshire.gov.uk/cms/content/abingdon-library\" target=\"_blank\">Abingdon</a></li></ul>\n"
       ]
      }
     ],
     "prompt_number": 35
    },
    {
     "cell_type": "code",
     "collapsed": false,
     "input": [
      "libs = []\n",
      "for library in libraries:\n",
      "    name = library.find('a').text\n",
      "    url = library.find('a')['href']\n",
      "    libs.append([name, url])\n",
      "    \n",
      "print libs[0]"
     ],
     "language": "python",
     "metadata": {},
     "outputs": [
      {
       "output_type": "stream",
       "stream": "stdout",
       "text": [
        "[u'Abingdon', u'http://www.oxfordshire.gov.uk/cms/content/abingdon-library']\n"
       ]
      }
     ],
     "prompt_number": 36
    },
    {
     "cell_type": "code",
     "collapsed": false,
     "input": [
      "ukpc = re.compile('([A-PR-UWYZ0-9][A-HK-Y0-9][AEHMNPRTVXY0-9]?[ABEHMNPRVWXY0-9]? {1,2}[0-9][ABD-HJLN-UW-Z]{2}|GIR 0AA)')\n",
      "for library in libs:\n",
      "    page = requests.get(library[1])\n",
      "    m = ukpc.search(page.text)\n",
      "    if m:\n",
      "        library.append(m.group(0))\n"
     ],
     "language": "python",
     "metadata": {},
     "outputs": [],
     "prompt_number": 37
    },
    {
     "cell_type": "code",
     "collapsed": false,
     "input": [
      "filename = 'libraries.csv'\n",
      "with open(filename, 'w') as f:\n",
      "    writer = csv.writer(f)\n",
      "    writer.writerow(['Library', 'url', 'postcode'])\n",
      "    writer.writerows(libs)\n",
      "\n",
      "for segment in [(0,100), (101, 200), (201,235)]:\n",
      "    filename = 'libraries%s.csv' % str(segment[0])\n",
      "    with open(filename, 'w') as f:\n",
      "        writer = csv.writer(f)\n",
      "        writer.writerow(['Library', 'url', 'postcode'])\n",
      "        writer.writerows(libs[segment[0]:segment[1]])"
     ],
     "language": "python",
     "metadata": {},
     "outputs": [],
     "prompt_number": 38
    },
    {
     "cell_type": "code",
     "collapsed": false,
     "input": [],
     "language": "python",
     "metadata": {},
     "outputs": [],
     "prompt_number": 38
    }
   ],
   "metadata": {}
  }
 ]
}