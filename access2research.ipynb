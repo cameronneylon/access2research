{
 "metadata": {
  "name": "access2research.ipynb"
 },
 "nbformat": 3,
 "nbformat_minor": 0,
 "worksheets": [
  {
   "cells": [
    {
     "cell_type": "code",
     "collapsed": false,
     "input": [
      "#imports\n",
      "import requests\n",
      "import string\n",
      "from bs4 import BeautifulSoup\n",
      "import re\n",
      "import csv\n",
      "import os\n",
      "os.listdir('.')"
     ],
     "language": "python",
     "metadata": {},
     "outputs": [
      {
       "metadata": {},
       "output_type": "pyout",
       "prompt_number": 1,
       "text": [
        "['.DS_Store',\n",
        " '.git',\n",
        " 'access2research.ipynb',\n",
        " 'libraries.csv',\n",
        " 'libraries0.csv',\n",
        " 'libraries101.csv',\n",
        " 'libraries201.csv',\n",
        " 'README.md']"
       ]
      }
     ],
     "prompt_number": 1
    },
    {
     "cell_type": "code",
     "collapsed": false,
     "input": [
      "page = requests.get('http://www.accesstoresearch.org.uk/libraries')"
     ],
     "language": "python",
     "metadata": {},
     "outputs": [],
     "prompt_number": 2
    },
    {
     "cell_type": "code",
     "collapsed": false,
     "input": [
      "soup = BeautifulSoup(page.text)\n",
      "librarylist = soup.find('div', class_='col-lft')\n",
      "libraries = librarylist.find_all('ul')\n",
      "print len(libraries)\n",
      "print libraries[0]"
     ],
     "language": "python",
     "metadata": {},
     "outputs": [
      {
       "output_type": "stream",
       "stream": "stdout",
       "text": [
        "235\n",
        "<ul class=\"list letters\"><li class=\"letter-a\"><a href=\"http://www.oxfordshire.gov.uk/cms/content/abingdon-library\" target=\"_blank\">Abingdon</a></li></ul>\n"
       ]
      }
     ],
     "prompt_number": 3
    },
    {
     "cell_type": "code",
     "collapsed": false,
     "input": [
      "libs = []\n",
      "for library in libraries:\n",
      "    name = library.find('a').text\n",
      "    url = library.find('a')['href']\n",
      "    libs.append([name, url])\n",
      "    \n",
      "print libs[0]"
     ],
     "language": "python",
     "metadata": {},
     "outputs": [
      {
       "output_type": "stream",
       "stream": "stdout",
       "text": [
        "[u'Abingdon', u'http://www.oxfordshire.gov.uk/cms/content/abingdon-library']\n"
       ]
      }
     ],
     "prompt_number": 4
    },
    {
     "cell_type": "markdown",
     "metadata": {},
     "source": [
      "Actual position of postcode for various library systems.\n",
      "\n",
      "For Kent County Council in a span element with id \"ctl00__mainContent_uxPostcodeLabel\"\n",
      "\n",
      "For Oxfordshire in a div with class \"postal-code\"\n",
      "\n",
      "Surrey doesn't appear to give postcodes at all...\n",
      "\n",
      "West Sussex works fine, as does Lewisham, Buckinghamshire and East Sussex\n",
      "\n",
      "Calderdale is in an unordered list with class \"contactitem\"\n",
      "\n",
      "\n"
     ]
    },
    {
     "cell_type": "code",
     "collapsed": false,
     "input": [
      "ukpc = re.compile('([A-PR-UWYZ0-9][A-HK-Y0-9][AEHMNPRTVXY0-9]?[ABEHMNPRVWXY0-9]? {1,2}[0-9][ABD-HJLN-UW-Z]{2}|GIR 0AA)')\n",
      "\n",
      "def process(raw_postcode,page):\n",
      "    \"\"\"\n",
      "    Given a postcode from the 'doesn't work' list, process page correctly\n",
      "    \"\"\"\n",
      "    soup = BeautifulSoup(page)\n",
      "    if raw_postcode == 'OX1 1ND':\n",
      "        elem = soup.find(['span','div'], class_='postal-code')\n",
      "\n",
      "        postcode = ukpc.search(elem.get_text()).group(0)\n",
      "        \n",
      "    elif raw_postcode == 'ME14 1LQ':\n",
      "        elem = soup.find('span', id='ctl00__mainContent_uxPostcodeLabel')\n",
      "        postcode = ukpc.search(elem.get_text()).group(0)\n",
      "        \n",
      "    elif raw_postcode == 'HX1 1UJ':\n",
      "        elem = soup.find_all('ul', class_='contactitem')[1]\n",
      "        postcode = ukpc.search(elem.get_text()).group(0)\n",
      "     \n",
      "    return postcode"
     ],
     "language": "python",
     "metadata": {},
     "outputs": [],
     "prompt_number": 5
    },
    {
     "cell_type": "code",
     "collapsed": false,
     "input": [
      "tocorrect = ['OX1 1ND', 'ME14 1LQ', 'HX1 1UJ']\n",
      "for library in libs:\n",
      "    page = requests.get(library[1])\n",
      "    m = ukpc.search(page.text)\n",
      "    if m:\n",
      "        postcode = m.group(0)\n",
      "        if postcode in tocorrect:\n",
      "            postcode = process(postcode, page.text)\n",
      "        library.append(postcode)\n"
     ],
     "language": "python",
     "metadata": {},
     "outputs": [],
     "prompt_number": 6
    },
    {
     "cell_type": "code",
     "collapsed": false,
     "input": [
      "filename = 'libraries.csv'\n",
      "with open(filename, 'w') as f:\n",
      "    writer = csv.writer(f)\n",
      "    writer.writerow(['Library', 'url', 'postcode'])\n",
      "    writer.writerows(libs)\n",
      "\n",
      "for segment in [(0,100), (101, 200), (201,235)]:\n",
      "    filename = 'libraries%s.csv' % str(segment[0])\n",
      "    with open(filename, 'w') as f:\n",
      "        writer = csv.writer(f)\n",
      "        writer.writerow(['Library', 'url', 'postcode'])\n",
      "        writer.writerows(libs[segment[0]:segment[1]])"
     ],
     "language": "python",
     "metadata": {},
     "outputs": [],
     "prompt_number": 7
    },
    {
     "cell_type": "code",
     "collapsed": false,
     "input": [],
     "language": "python",
     "metadata": {},
     "outputs": [],
     "prompt_number": 7
    }
   ],
   "metadata": {}
  }
 ]
}